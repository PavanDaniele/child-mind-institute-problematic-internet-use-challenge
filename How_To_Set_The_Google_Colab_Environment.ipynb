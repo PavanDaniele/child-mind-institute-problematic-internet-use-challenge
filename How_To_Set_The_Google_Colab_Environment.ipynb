{
  "nbformat": 4,
  "nbformat_minor": 0,
  "metadata": {
    "colab": {
      "provenance": [],
      "toc_visible": true,
      "authorship_tag": "ABX9TyMN5prQitlmzmiaQpVyYLR3",
      "include_colab_link": true
    },
    "kernelspec": {
      "name": "python3",
      "display_name": "Python 3"
    },
    "language_info": {
      "name": "python"
    }
  },
  "cells": [
    {
      "cell_type": "markdown",
      "metadata": {
        "id": "view-in-github",
        "colab_type": "text"
      },
      "source": [
        "<a href=\"https://colab.research.google.com/github/PavanDaniele/child-mind-institute-problematic-internet-use-challenge/blob/main/How_To_Set_The_Google_Colab_Environment.ipynb\" target=\"_parent\"><img src=\"https://colab.research.google.com/assets/colab-badge.svg\" alt=\"Open In Colab\"/></a>"
      ]
    },
    {
      "cell_type": "markdown",
      "source": [
        "# How to set the environment\n",
        "This is a brief introduction on how to set up the Google Colab environment for a Kaggle challenge. I will use Kaggle's API to connect your profile and download the dataset.\n",
        "\n",
        "NB:\n",
        " - Remember to change the competition name, in this example I was working on 'Child Mind Institute — Problematic Internet Use'\n",
        " - Since Google Colab resets every time the session in closed, you need to do steps 1,3,4<br>\n",
        " (if data hasn't changed and is already in your GitHub repository you can omit steps 6 and 7)\n",
        " - If you are using colab you can press ctrl+s to do a commit"
      ],
      "metadata": {
        "id": "T_nNS5y_T4Rg"
      }
    },
    {
      "cell_type": "code",
      "source": [
        "# Step 1: Clone the GitHub repository on the specific branch\n",
        "!git clone -b child-mind-institute-problematic-internet-use-challenge https://github.com/PavanDaniele/kaggle-projects.git\n",
        "%cd kaggle-projects/child-mind-institute-challenge\n",
        "\n",
        "# Step 2: Install and configure Kaggle's API\n",
        "!pip install kaggle\n",
        "\n",
        "# Step 3: Upload 'kaggle.json'\n",
        "from google.colab import files\n",
        "files.upload() # here upload 'kaggle.json'\n",
        "\n",
        "# Step 4: Save the 'kaggle.json' (if you've already configured the API) on your GitHub and make sure it's located ~/.kaggle/\n",
        "!mkdir -p ~/.kaggle\n",
        "!cp kaggle.json ~/.kaggle/\n",
        "!chmod 600 ~/.kaggle/kaggle.json\n",
        "\n",
        "# Step 5: Verify Kaggle API with competition list (optional)\n",
        "!kaggle competitions list # shows all competitions along with details\n",
        "\n",
        "# Step 6: Download all relevant files for that competition\n",
        "!kaggle competitions download -c child-mind-institute-problematic-internet-use\n",
        "\n",
        "# Step 7: Unzip the files\n",
        "import zipfile\n",
        "import os\n",
        "\n",
        "with zipfile.ZipFile('child-mind-institute-problematic-internet-use.zip', 'r') as zip_ref:\n",
        "    zip_ref.extractall('child_mind_institute')\n",
        "\n",
        "# Step 8: Load the dataset\n",
        "import pandas as pd\n",
        "\n",
        "train_df = pd.read_csv('child_mind_institute/train.csv')\n",
        "train_df.head()"
      ],
      "metadata": {
        "id": "vuRAFimcT9Eg"
      },
      "execution_count": null,
      "outputs": []
    },
    {
      "cell_type": "markdown",
      "source": [
        "**Reminder:** every time you have to run this snippet below:"
      ],
      "metadata": {
        "id": "MXm6BW1YUDsf"
      }
    },
    {
      "cell_type": "code",
      "source": [
        "!git clone -b child-mind-institute-problematic-internet-use-challenge https://github.com/PavanDaniele/kaggle-projects.git\n",
        "%cd kaggle-projects/child-mind-institute-challenge\n",
        "\n",
        "from google.colab import files\n",
        "files.upload() # here upload 'kaggle.json'\n",
        "\n",
        "!mkdir -p ~/.kaggle\n",
        "!cp kaggle.json ~/.kaggle/\n",
        "!chmod 600 ~/.kaggle/kaggle.json\n",
        "\n",
        "# !git config --global user.email \"danipav95@gmail.com\"\n",
        "# !git config --global user.name \"Pavan Daniele\""
      ],
      "metadata": {
        "id": "HD_jZXDEUFDQ"
      },
      "execution_count": null,
      "outputs": []
    },
    {
      "cell_type": "code",
      "source": [
        "# Function to commit changes only\n",
        "def git_commit(commit_message=\"Update\"):\n",
        "    !git add .\n",
        "    !git commit -m \"{commit_message}\"\n",
        "# Usage example: git_commit(\"message bla bla bla\")\n",
        "\n",
        "# Function to push committed changes on a specific branch\n",
        "def git_push():\n",
        "    !git push origin child-mind-institute-problematic-internet-use-challenge\n",
        "# Usage example: git_push()\n",
        "\n",
        "# Function to commit and push directly\n",
        "def git_commit_and_push(commit_message=\"Update\"):\n",
        "    !git add .\n",
        "    !git commit -m \"{commit_message}\"\n",
        "    !git push origin child-mind-institute-problematic-internet-use-challenge\n",
        "# Usage example: git_commit_and_push(\"Messaggio descrittivo del commit\")"
      ],
      "metadata": {
        "id": "rBKYnJrpUMSy"
      },
      "execution_count": null,
      "outputs": []
    },
    {
      "cell_type": "markdown",
      "source": [
        "Now you can work, Good Luck!"
      ],
      "metadata": {
        "id": "nd_vr8PbUobI"
      }
    }
  ]
}