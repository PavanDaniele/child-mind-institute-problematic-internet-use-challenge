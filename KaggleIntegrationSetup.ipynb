{
  "nbformat": 4,
  "nbformat_minor": 0,
  "metadata": {
    "colab": {
      "provenance": [],
      "toc_visible": true,
      "authorship_tag": "ABX9TyMg/xdJoxSUnQYQmX2vFS7z",
      "include_colab_link": true
    },
    "kernelspec": {
      "name": "python3",
      "display_name": "Python 3"
    },
    "language_info": {
      "name": "python"
    }
  },
  "cells": [
    {
      "cell_type": "markdown",
      "metadata": {
        "id": "view-in-github",
        "colab_type": "text"
      },
      "source": [
        "<a href=\"https://colab.research.google.com/github/PavanDaniele/child-mind-institute-problematic-internet-use-challenge/blob/main/KaggleIntegrationSetup.ipynb\" target=\"_parent\"><img src=\"https://colab.research.google.com/assets/colab-badge.svg\" alt=\"Open In Colab\"/></a>"
      ]
    },
    {
      "cell_type": "markdown",
      "source": [
        "# How to set the environment\n",
        "This is a brief and basic introduction on how to set up the Google Colab environment for a Kaggle challenge. I will use Kaggle's API to connect your profile and download the dataset.\n",
        "\n",
        "Tips: Remember to change the competition name, in this example I was working on 'Child Mind Institute — Problematic Internet Use'"
      ],
      "metadata": {
        "id": "J3qctGFl4ial"
      }
    },
    {
      "cell_type": "markdown",
      "source": [
        "**Step 1: (Optional)** Link Google Drive to Colab to save progress locally in your Drive"
      ],
      "metadata": {
        "id": "l9bb6nTN8ts8"
      }
    },
    {
      "cell_type": "code",
      "execution_count": null,
      "metadata": {
        "id": "i8G-tLSk8Hfc",
        "collapsed": true
      },
      "outputs": [],
      "source": [
        "from google.colab import drive\n",
        "drive.mount('/content/drive')"
      ]
    },
    {
      "cell_type": "markdown",
      "source": [
        "**Step 2: Install and configure Kaggle's API** <br>\n",
        "First, download your kaggle.json file from Kaggle (go to Account > API > Create New API Token).<br>\n",
        "Second, upload kaggle.json to configure the Kaggle API. <br>\n",
        "**_NW:_** Never send your _kaggle.json_ file. It contains your personal credentials."
      ],
      "metadata": {
        "id": "torlsbO8-Mb2"
      }
    },
    {
      "cell_type": "markdown",
      "source": [
        "Install the Kaggle package and authenticate:"
      ],
      "metadata": {
        "id": "VX24d99T-z3z"
      }
    },
    {
      "cell_type": "code",
      "source": [
        "!pip install kaggle # to install kaggle on the colab environment\n",
        "from google.colab import files\n",
        "files.upload()  # Upload kaggle.json here"
      ],
      "metadata": {
        "id": "4Onamvcu-I1n",
        "collapsed": true
      },
      "execution_count": null,
      "outputs": []
    },
    {
      "cell_type": "markdown",
      "source": [
        "**Step 3:** Save the 'kaggle.json' (if you've already configured the API) on your GitHub and make sure it's located ~/.kaggle/"
      ],
      "metadata": {
        "id": "9k-zBrbE-3LY"
      }
    },
    {
      "cell_type": "code",
      "source": [
        "!mkdir -p ~/.kaggle  # Create a hidden directory named '.kaggle' in the user's home directory if it doesn't already exist\n",
        "!cp kaggle.json ~/.kaggle/  # Copy the 'kaggle.json' file to the newly created '.kaggle' directory\n",
        "!chmod 600 ~/.kaggle/kaggle.json  # Change file permissions to make 'kaggle.json' readable and writable only by the file owner"
      ],
      "metadata": {
        "id": "PJ3mVP9a-6Bo"
      },
      "execution_count": null,
      "outputs": []
    },
    {
      "cell_type": "markdown",
      "source": [
        "**Step 3.1:** Verify Kaggle API with competition list (optional)"
      ],
      "metadata": {
        "id": "h3eiKT67cAUm"
      }
    },
    {
      "cell_type": "code",
      "source": [
        "!kaggle competitions list # shows all competitions along with details"
      ],
      "metadata": {
        "id": "zry-9T-2_EKq",
        "collapsed": true
      },
      "execution_count": null,
      "outputs": []
    },
    {
      "cell_type": "markdown",
      "source": [
        "**Step 3.2:** Download all relevant files for that competition"
      ],
      "metadata": {
        "id": "w5cg7lgecHME"
      }
    },
    {
      "cell_type": "code",
      "source": [
        "!kaggle competitions download -c child-mind-institute-problematic-internet-use # This will download all relevant files for that competition directly into your Colab environment"
      ],
      "metadata": {
        "id": "f-xVnqIu_uwt",
        "collapsed": true
      },
      "execution_count": null,
      "outputs": []
    },
    {
      "cell_type": "markdown",
      "source": [
        "Ok, now you have downloaded all relevant files for your competition!<br>"
      ],
      "metadata": {
        "id": "zUnYl75N8y9b"
      }
    },
    {
      "cell_type": "markdown",
      "source": [
        "**Step 4: Unzip the files**<br> First, Unzip the downloaded file to access train.csv and other files. <br>Second, After unzipping, load train.csv into a DataFrame for data exploration and processing."
      ],
      "metadata": {
        "id": "CeLg4gJtDchs"
      }
    },
    {
      "cell_type": "code",
      "source": [
        "import zipfile\n",
        "import os\n",
        "import pandas as pd\n",
        "\n",
        "##FIRST\n",
        "# Unzip the dataset\n",
        "with zipfile.ZipFile('/content/child-mind-institute-problematic-internet-use.zip', 'r') as zip_ref:\n",
        "    zip_ref.extractall('/content/child_mind_institute')\n",
        "\n",
        "# Check extracted files\n",
        "os.listdir('/content/child_mind_institute')\n",
        "\n",
        "\n",
        "## SECOND\n",
        "# Load train.csv\n",
        "train_df = pd.read_csv('/content/child_mind_institute/train.csv')\n",
        "train_df.head() # Display the first few rows of train_set\n",
        "\n"
      ],
      "metadata": {
        "id": "llGQg7QkCcPb",
        "collapsed": true
      },
      "execution_count": null,
      "outputs": []
    },
    {
      "cell_type": "markdown",
      "source": [
        "Now you can work. Good Luck!"
      ],
      "metadata": {
        "id": "EekmLjUe6Taw"
      }
    },
    {
      "cell_type": "markdown",
      "source": [
        "# How to commit and push properly"
      ],
      "metadata": {
        "id": "kps21oCcDZZI"
      }
    },
    {
      "cell_type": "markdown",
      "source": [
        "To work within the child-mind-institute-challenge folder of your GitHub repository and push updates consistently, you can follow these steps. This way, you won’t need to push a separate file every time but can commit all changes at once."
      ],
      "metadata": {
        "id": "nxqchpbbDbMl"
      }
    },
    {
      "cell_type": "markdown",
      "source": [
        "**Step 1:** I'm going to create a new branch in my repository for all Kaggle competitions I partecipate in.<br>This branch will be called: \"child-mind-institute-problematic-internet-use-challenge\"."
      ],
      "metadata": {
        "id": "xFmcfR4jFOxD"
      }
    },
    {
      "cell_type": "markdown",
      "source": [
        "**Step 2:** Clone the Repository"
      ],
      "metadata": {
        "id": "Xlp2RGKQDtSs"
      }
    },
    {
      "cell_type": "code",
      "source": [
        "# Clone the repository\n",
        "!git clone https://github.com/PavanDaniele/child-mind-institute-problematic-internet-use-challenge.git\n",
        "%cd child-mind-institute-problematic-internet-use-challenge\n"
      ],
      "metadata": {
        "id": "kz6xittLDswp",
        "collapsed": true
      },
      "execution_count": null,
      "outputs": []
    },
    {
      "cell_type": "code",
      "source": [
        "!ls # to see files and directory in the current directory"
      ],
      "metadata": {
        "id": "ha0lWtYMTqQa"
      },
      "execution_count": null,
      "outputs": []
    },
    {
      "cell_type": "markdown",
      "source": [
        "**Step 3.1:** Commit and Push to the New Branch (every time you want to save changes to your code in GitHub, you'll need to follow these basic steps: see code below)"
      ],
      "metadata": {
        "id": "RqeWWN3aHiMx"
      }
    },
    {
      "cell_type": "code",
      "source": [
        "# Check the status of the repository\n",
        "!git status\n",
        "\n",
        "# Stage all changes\n",
        "!git add .\n",
        "\n",
        "# Commit changes\n",
        "!git commit -m \"Add ProjectDWM.ipynb and setup environment instructions for Child Mind Institute Challenge\"\n",
        "\n",
        "# Push to the new branch\n",
        "!git push origin child-mind-institute-problematic-internet-use-challenge\n"
      ],
      "metadata": {
        "id": "VKLImoLUDaxN"
      },
      "execution_count": null,
      "outputs": []
    },
    {
      "cell_type": "markdown",
      "source": [
        "Or you can simply run one of these functions:"
      ],
      "metadata": {
        "id": "0EDsCGwjIR2r"
      }
    },
    {
      "cell_type": "code",
      "source": [
        "# Function to commit changes only\n",
        "def git_commit(commit_message=\"Update\"):\n",
        "    !git add .\n",
        "    !git commit -m \"{commit_message}\"\n",
        "# Usage example: git_commit(\"message bla bla bla\")\n",
        "\n",
        "# Function to push committed changes on a specific branch\n",
        "def git_push():\n",
        "    !git push origin child-mind-institute-problematic-internet-use-challenge\n",
        "# Usage example: git_push()\n",
        "\n",
        "# Function to commit and push directly\n",
        "def git_commit_and_push(commit_message=\"Update\"):\n",
        "    !git add .\n",
        "    !git commit -m \"{commit_message}\"\n",
        "    !git push origin child-mind-institute-problematic-internet-use-challenge\n",
        "# Usage example: git_commit_and_push(\"message bla bla bla\")"
      ],
      "metadata": {
        "id": "IsAD1O_wIx5e"
      },
      "execution_count": null,
      "outputs": []
    },
    {
      "cell_type": "markdown",
      "source": [
        "Each time you make a change and want to save progress, you just need to run this cell with a new commit message."
      ],
      "metadata": {
        "id": "g_yUoPFxI2CG"
      }
    },
    {
      "cell_type": "markdown",
      "source": [
        "**Step 3.2:**  Instead of running all the Git commands manually, you can use the following path in Colab: *File → Save a copy in GitHub*.<br>This simplifies the process and allows you to commit and push.<br>\n",
        "**_NW:_** remember to save the file in the right repository and branch!"
      ],
      "metadata": {
        "id": "hOdjHjmKV9jQ"
      }
    },
    {
      "cell_type": "markdown",
      "source": [
        "**TIPS:** Add Checkpoints to Your Notebook\n",
        "\n",
        "- Use headers and markdown notes to clearly define each stage of your project (e.g., Data Exploration, Preprocessing, Model Building, Evaluation). This will improve the structure of your notebook and make it easier to follow.\n",
        "- These checkpoints will also help when exporting the notebook as a report, saving you time in organizing your documentation.\n",
        "- For consistent formatting, consider using numbered sections (e.g., 1. Data Exploration, 2. Data Cleaning, etc.).\n"
      ],
      "metadata": {
        "id": "n-auufkZJIbY"
      }
    }
  ]
}