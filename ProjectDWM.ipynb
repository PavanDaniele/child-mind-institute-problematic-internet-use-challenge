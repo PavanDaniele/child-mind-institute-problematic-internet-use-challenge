{
  "nbformat": 4,
  "nbformat_minor": 0,
  "metadata": {
    "colab": {
      "provenance": [],
      "toc_visible": true,
      "authorship_tag": "ABX9TyPnzVZklp1deIjnoXnWQWkL",
      "include_colab_link": true
    },
    "kernelspec": {
      "name": "python3",
      "display_name": "Python 3"
    },
    "language_info": {
      "name": "python"
    }
  },
  "cells": [
    {
      "cell_type": "markdown",
      "metadata": {
        "id": "view-in-github",
        "colab_type": "text"
      },
      "source": [
        "<a href=\"https://colab.research.google.com/github/PavanDaniele/child-mind-institute-problematic-internet-use-challenge/blob/main/ProjectDWM.ipynb\" target=\"_parent\"><img src=\"https://colab.research.google.com/assets/colab-badge.svg\" alt=\"Open In Colab\"/></a>"
      ]
    },
    {
      "cell_type": "markdown",
      "source": [
        "# Data Cleaning"
      ],
      "metadata": {
        "id": "JMpQ8GYNv_S9"
      }
    },
    {
      "cell_type": "markdown",
      "source": [
        "## Dataset Exploration"
      ],
      "metadata": {
        "id": "1MRij6hh4EtS"
      }
    },
    {
      "cell_type": "code",
      "source": [
        "\n",
        "import pandas as pd\n",
        "\n",
        "# URL raw of files (The RAW URL gives you direct access to the contents of the file without the GitHub page)\n",
        "train_url = \"https://raw.githubusercontent.com/PavanDaniele/child-mind-institute-problematic-internet-use-challenge/main/train.csv\"\n",
        "test_url = \"https://raw.githubusercontent.com/PavanDaniele/child-mind-institute-problematic-internet-use-challenge/main/test.csv\"\n",
        "\n",
        "# Load direcrly from GitHub\n",
        "train_df = pd.read_csv(train_url)\n",
        "test_df = pd.read_csv(test_url)\n",
        "\n",
        "# check if the loading was successfull\n",
        "print(train_df.head())"
      ],
      "metadata": {
        "id": "Z2CHLfxpwHNi",
        "outputId": "55d30521-e25f-488f-c924-b8047fb3c25a",
        "colab": {
          "base_uri": "https://localhost:8080/"
        }
      },
      "execution_count": 10,
      "outputs": [
        {
          "output_type": "stream",
          "name": "stdout",
          "text": [
            "         id Basic_Demos-Enroll_Season  Basic_Demos-Age  Basic_Demos-Sex  \\\n",
            "0  00008ff9                      Fall                5                0   \n",
            "1  000fd460                    Summer                9                0   \n",
            "2  00105258                    Summer               10                1   \n",
            "3  00115b9f                    Winter                9                0   \n",
            "4  0016bb22                    Spring               18                1   \n",
            "\n",
            "  CGAS-Season  CGAS-CGAS_Score Physical-Season  Physical-BMI  Physical-Height  \\\n",
            "0      Winter             51.0            Fall     16.877316             46.0   \n",
            "1         NaN              NaN            Fall     14.035590             48.0   \n",
            "2        Fall             71.0            Fall     16.648696             56.5   \n",
            "3        Fall             71.0          Summer     18.292347             56.0   \n",
            "4      Summer              NaN             NaN           NaN              NaN   \n",
            "\n",
            "   Physical-Weight  ...  PCIAT-PCIAT_18  PCIAT-PCIAT_19  PCIAT-PCIAT_20  \\\n",
            "0             50.8  ...             4.0             2.0             4.0   \n",
            "1             46.0  ...             0.0             0.0             0.0   \n",
            "2             75.6  ...             2.0             1.0             1.0   \n",
            "3             81.6  ...             3.0             4.0             1.0   \n",
            "4              NaN  ...             NaN             NaN             NaN   \n",
            "\n",
            "   PCIAT-PCIAT_Total SDS-Season  SDS-SDS_Total_Raw  SDS-SDS_Total_T  \\\n",
            "0               55.0        NaN                NaN              NaN   \n",
            "1                0.0       Fall               46.0             64.0   \n",
            "2               28.0       Fall               38.0             54.0   \n",
            "3               44.0     Summer               31.0             45.0   \n",
            "4                NaN        NaN                NaN              NaN   \n",
            "\n",
            "   PreInt_EduHx-Season PreInt_EduHx-computerinternet_hoursday  sii  \n",
            "0                 Fall                                    3.0  2.0  \n",
            "1               Summer                                    0.0  0.0  \n",
            "2               Summer                                    2.0  0.0  \n",
            "3               Winter                                    0.0  1.0  \n",
            "4                  NaN                                    NaN  NaN  \n",
            "\n",
            "[5 rows x 82 columns]\n"
          ]
        }
      ]
    },
    {
      "cell_type": "code",
      "source": [
        "\n",
        "\n",
        "\n",
        "\n",
        "\n"
      ],
      "metadata": {
        "id": "F51NeaNc5yca"
      },
      "execution_count": null,
      "outputs": []
    }
  ]
}